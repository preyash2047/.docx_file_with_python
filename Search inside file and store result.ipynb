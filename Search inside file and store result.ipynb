{
  "nbformat": 4,
  "nbformat_minor": 0,
  "metadata": {
    "colab": {
      "name": "Untitled25.ipynb",
      "provenance": []
    },
    "kernelspec": {
      "name": "python3",
      "display_name": "Python 3"
    }
  },
  "cells": [
    {
      "cell_type": "code",
      "metadata": {
        "id": "xcqiScpKG-ll",
        "outputId": "f1d53080-f265-4945-dcfb-80b9e566722a",
        "colab": {
          "base_uri": "https://localhost:8080/"
        }
      },
      "source": [
        "#install librarey\n",
        "!pip install docx2txt\n",
        "\n",
        "#importing required librareys:\n",
        "import os\n",
        "import docx2txt\n",
        "\n",
        "#Challenge A\n",
        "#to read all files\n",
        "file_paths = []\n",
        "#loop to get append file_paths \n",
        "for root, directories, files in os.walk(\"/content/\"):\n",
        "    for filename in files:\n",
        "        # Join the two strings in order to form the full filepath.\n",
        "        filepath = os.path.join(root, filename)\n",
        "        file_paths.append(filepath)\n",
        "print(\"Total No of Files: \", len(file_paths))\n",
        "\n",
        "#making list of file name\n",
        "fileNameList = []\n",
        "for i in file_paths:\n",
        "  fileNameList.append(i.split(\"/\")[-1])\n",
        "\n",
        "#storing the file name in csv\n",
        "with open('filelist.csv', 'w') as f: \n",
        "  f.writelines(\"File Name\"+\"\\n\")\n",
        "  for i in fileNameList:\n",
        "    f.writelines(i+\"\\n\")"
      ],
      "execution_count": 42,
      "outputs": [
        {
          "output_type": "stream",
          "text": [
            "Requirement already satisfied: docx2txt in /usr/local/lib/python3.6/dist-packages (0.8)\n",
            "Total No of Files:  24\n"
          ],
          "name": "stdout"
        }
      ]
    },
    {
      "cell_type": "code",
      "metadata": {
        "id": "Nyo6C-uCQyMI"
      },
      "source": [
        "#Challenge B\n",
        "fileNameList = []\n",
        "wordinFile = []\n",
        "for i in file_paths:\n",
        "  try:\n",
        "    #opening document\n",
        "    text = docx2txt.process(i)\n",
        "    text = text.replace(\"\\n\",\"\")\n",
        "    text = text.split()\n",
        "    fileNameList.append(i.split(\"/\")[-1])\n",
        "    wordinFile.append(len(text))\n",
        "  except:\n",
        "    pass\n",
        "    #non openablel file will be skiped as simple as that\n",
        "\n",
        "#storing the file name in csv\n",
        "with open('filelist.csv', 'w') as f: \n",
        "  f.writelines(\"File Name,WordsCount\"+\"\\n\")\n",
        "  for i in range(len(fileNameList)):\n",
        "    f.writelines(fileNameList[i] + \",\" + str(wordinFile[i]) + \"\\n\")"
      ],
      "execution_count": 44,
      "outputs": []
    },
    {
      "cell_type": "code",
      "metadata": {
        "id": "DK1TsCVaRpv0",
        "outputId": "c79e5ece-4103-47c3-cceb-554fc46827bb",
        "colab": {
          "base_uri": "https://localhost:8080/"
        }
      },
      "source": [
        "#Challenge C\n",
        "searchWord = input(\"Enter search word here: \")\n",
        "searchData = {}\n",
        "for i in file_paths:\n",
        "  try:\n",
        "    #opening document\n",
        "    text = docx2txt.process(i)\n",
        "    text = text.replace(\"\\n\",\"\")\n",
        "    text = text.split()\n",
        "    if searchWord in text:\n",
        "      searchData[searchWord] = {\n",
        "          i.split(\"/\")[-1] : text.count(searchWord)\n",
        "      }\n",
        "  except:\n",
        "    pass\n",
        "    #non openablel file will be skiped as simple as that"
      ],
      "execution_count": 45,
      "outputs": [
        {
          "output_type": "stream",
          "text": [
            "Enter search word here: CA\n"
          ],
          "name": "stdout"
        }
      ]
    },
    {
      "cell_type": "code",
      "metadata": {
        "id": "x2XDl3zgUxEZ",
        "outputId": "23c43baf-0c25-45f3-bded-03a029ebce68",
        "colab": {
          "base_uri": "https://localhost:8080/"
        }
      },
      "source": [
        "searchData"
      ],
      "execution_count": 47,
      "outputs": [
        {
          "output_type": "execute_result",
          "data": {
            "text/plain": [
              "{'CA': {'Chartered Accountant.docx': 5}}"
            ]
          },
          "metadata": {
            "tags": []
          },
          "execution_count": 47
        }
      ]
    },
    {
      "cell_type": "code",
      "metadata": {
        "id": "ZxXLVl5oXOth",
        "outputId": "9e481fa1-e771-490b-d87e-82ca5ba104ba",
        "colab": {
          "base_uri": "https://localhost:8080/"
        }
      },
      "source": [
        "x.count(1)"
      ],
      "execution_count": 41,
      "outputs": [
        {
          "output_type": "execute_result",
          "data": {
            "text/plain": [
              "3"
            ]
          },
          "metadata": {
            "tags": []
          },
          "execution_count": 41
        }
      ]
    },
    {
      "cell_type": "code",
      "metadata": {
        "id": "2_9ORcWNXQTL"
      },
      "source": [
        ""
      ],
      "execution_count": null,
      "outputs": []
    }
  ]
}