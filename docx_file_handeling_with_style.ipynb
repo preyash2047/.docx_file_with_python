{
  "nbformat": 4,
  "nbformat_minor": 0,
  "metadata": {
    "colab": {
      "name": "docx file handeling with style",
      "provenance": [],
      "collapsed_sections": []
    },
    "kernelspec": {
      "name": "python3",
      "display_name": "Python 3"
    }
  },
  "cells": [
    {
      "cell_type": "markdown",
      "metadata": {
        "id": "IeWWbNXWjTNl"
      },
      "source": [
        "#Just for text"
      ]
    },
    {
      "cell_type": "code",
      "metadata": {
        "id": "5UwbVHQ1_0Op"
      },
      "source": [
        "import docx2txt\n",
        "from bs4 import BeautifulSoup\n",
        "\n",
        "text = docx2txt.process(\"Chartered Accountant.docx\")\n",
        "soup = BeautifulSoup(text)"
      ],
      "execution_count": null,
      "outputs": []
    },
    {
      "cell_type": "code",
      "metadata": {
        "id": "wMbkUlTBLEiR",
        "outputId": "1769249c-c145-4345-9ef1-171a5e6c1c35",
        "colab": {
          "base_uri": "https://localhost:8080/",
          "height": 142
        }
      },
      "source": [
        "soup.p.text"
      ],
      "execution_count": null,
      "outputs": [
        {
          "output_type": "execute_result",
          "data": {
            "application/vnd.google.colaboratory.intrinsic+json": {
              "type": "string"
            },
            "text/plain": [
              "'Chartered Accountant\\n\\nIntroduction\\n\\nThe duties of a CA include preparing financial reports and documents, maintaining records of investments, reviewing potential financial risks as well as providing professional opinions in regard to the fiscal decisions of the firm. They play a strategic role by providing professional advice, aiming to maximize profitability on behalf of their client or employer.\\n\\nCareer prospects\\n\\nIf you are looking to work as corporate executive who makes strategic financial plan for the company, or playing a part in regulation of financial reports for tax authorities, creditors, stockholders and regulatory agencies. \\n\\nYou can also start your own CA firm as well.\\n\\nYou can work in firm according to your specialities:\\n\\nTaxation\\n\\nAccounting \\n\\nAuditing\\n\\nLaw\\n\\nResponsibilities \\n\\nKNOWLEDGE\\n\\nBusiness\\n\\nAccounting and economics\\n\\nAdministrative services\\n\\nMath and Science\\n\\nArithmetic, algebra, geometry, calculus, or statistics\\n\\nArts and Humanities\\n\\nEnglish language\\n\\nSafety and Government\\n\\nLaw and government\\n\\n SKILLS\\n\\nBasic Skills\\n\\nListening to others, not interrupting, and asking good questions\\n\\nReading work related information\\n\\nProblem Solving\\n\\nNoticing a problem and figuring out the best way to solve it\\n\\nPeople and Technology Systems\\n\\nThinking about the pros and cons of different options and picking the best                    \\n\\nFiguring out how a system should work and how changes in the future will affect it.\\n\\nHow to get there?\\n\\nRequirements to become a Chartered Accountant:\\n\\n1. Through Foundation Course route:\\n\\n(i) Enrol for Foundation Course after appearing in Class 12thExamination conducted by an examining body\\n\\nconstituted by law in India or an examination recognized by the Central Government as equivalent thereto.\\n\\n(ii) Complete four months Study Period. Register till 30th June/ 31st December for being eligible to appear in\\n\\nNovember/ May Foundation Course Examination.\\n\\n(ii) Appear in Foundation Examination after passing in the Senior Secondary Examination (10+2 examination)\\n\\nconducted by an examining body constituted by law in India or an examination recognised by the Central\\n\\nGovernment as equivalent thereto and on complying with (ii) above.\\n\\n(iii) Join Intermediate Course after passing Foundation Examination.\\n\\n(iv) Undergo Four Weeks Integrated Course on Information Technology and Soft skills (ICITSS) consisting of\\n\\nCourses on Information Technology and Orientation Course at the earliest but these are to be completed\\n\\ncompulsorilybefore commencement of their articleship.\\n\\n(v) Appear in Intermediate Examination on completion of 8months of study course as on first day of the month in\\n\\nwhich theexamination is to be held.\\n\\n(vi) Join articled training after passing either of the Group or Both Groups ofIntermediate Course and after\\n\\nsuccessfully undergoing ICITSS.\\n\\n(vii) Clear the balance Group (if any) of Intermediate Examination.\\n\\n(viii) Register for Final Course.\\n\\n(ix) Successfully undergo Four Weeks Advanced Integrated Course on Information Technology and Soft skills\\n\\n(AICITSS) consisting of Courses on Advanced Information Technology and Management Communication Skills\\n\\nduring the last two years of practical trainingbut before appearing in the Final Examination.\\n\\n(x) Appear in the Final Examination on completion of the practical training or whileserving last 6 months of\\n\\narticled training on or before the last day of the month preceding the month in which the examination is to be\\n\\nheldafter successful completion of AICITSS.\\n\\n(xi) Complete articled training of 3 years.\\n\\n(xii) Pass Final Examination.\\n\\n(xiii) Enrol as a member of the ICAI and be designated as “Chartered Accountant”.\\n\\n\\n\\n2. Through Direct Entry route:\\n\\nI. Commerce Graduates/Post-Graduates (55%) or Other Graduates/Post-Graduates (60%):\\n\\n(i) Enrol with the Institute for Intermediate Course.\\n\\n(ii) Undergo Four Weeks Integrated Course on Information Technology and Soft skills (ICITSS) consisting of\\n\\nCourses on Information Technology and Orientation Course before commencement of their articleship.\\n\\n(iii) Register for Practical Training of three years.\\n\\n(iv) Appear in Intermediate Examination on completion of 9 months of Practical Training on first day of the month\\n\\nin which the examination is to be held.\\n\\n(v)Appear and pass in both groups of Intermediate Examination.\\n\\n(vi) Register for CA Final Course.\\n\\n(vii) Successfully undergo Four Weeks Advanced Integrated Course on Information Technology and Soft skills\\n\\n(AICITSS) consisting of Courses on Advanced Information Technology and Management Communication Skills\\n\\nduring the last two years of practical training but before appearing in the Final Examination.\\n\\n(viii) Appear in the Final Examination on completion of the practical training or while serving last 6 months of\\n\\narticled training on or before the last day of the month preceding the month in which the examination is to be held\\n\\nafter successful completion of AICITSS.\\n\\n(ix) Complete articled training of 3 years.\\n\\n(x) Pass Final Examination.\\n\\n(xi) Enrol as a member of the ICAI and be designated as “Chartered Accountant”.\\n\\nProvisional Registration: Candidates who are pursuing the Final year of Graduation Course shall be eligible for\\n\\nprovisional registration to the Intermediate Course. Such candidates would be required to submit satisfactory\\n\\nproof of having passed the graduation examination with the specified percentage of marks within such period not\\n\\nexceeding six months as from the date of appearance in the final year graduation examination. During the period\\n\\nof provisional registration, the candidate can undergo and complete ICITSS. It is clarified that in their case, the\\n\\npractical training will commence only on becoming a graduate with specified percentage of marks. Such\\n\\ncandidates shall be eligible for appearing in the Intermediate Examination on completion of nine months of\\n\\npractical training. If such candidates fail to produce the proof within the aforesaid period, his provisional\\n\\nregistration shall be cancelled and the registration fee or the tuition fee, as the case may be, paid by him shall not\\n\\nbe refunded and no credit shall be given for the theoretical education undergone.\\n\\nII. Candidates who have passed Intermediate level examination of Institute of Company Secretaries of India or\\n\\nInstitute of Cost Accountants of India\\n\\n(i) Enrol with the Institute for Intermediate Course.\\n\\n(ii) Undergo Four Weeks Integrated Course on Information Technology and Soft skills (ICITSS) consisting of\\n\\nCourses on Information Technology and Orientation Course at the earliest but these are to be completed\\n\\ncompulsorily before commencement of their articleship.\\n\\n(iii) Appear in Intermediate Examination on completion of 8 months of study course as on first day of the month in\\n\\nwhich the examination is to be held.\\n\\n(iv) Join articled training after passing either of the Group or Both Groups of Intermediate Course and after\\n\\nsuccessfully undergoing ICITSS.\\n\\n(v) Clear the balance Group (if any) of Intermediate Examination.\\n\\n(vi) Register for Final Course.\\n\\n(vii) Successfully undergo Four Weeks Advanced Integrated Course on Information Technology and Soft skills\\n\\n(AICITSS) consisting of Courses on Advanced Information Technology and Management Communication Skills\\n\\nduring the last two years of practical training but before appearing in the Final Examination.\\n\\n(viii) Appear in the Final Examination on completion of the practical training or while serving last 6 months of\\n\\narticled training on or before the last day of the month preceding the month in which the examination is to be held\\n\\nafter successful completion of AICITSS.\\n\\n(ix) Complete articled training of 3 years.\\n\\n(x) Pass Final Examination.\\n\\n(xi) Enrol as a member of the ICAI and be designated as “Chartered Accountant”\\n\\nSource : https://resource.cdn.icai.org/19323ca_atcourse260510.pdf\\n\\nPros and cons\\n\\nPros\\n\\nGood remuneration and social status\\n\\nGood for people who like to work without much social interaction\\n\\nHigh demand for CA professionals\\n\\nCons\\n\\nRequires much hard-work and patience\\n\\nLong hours of work and difficult to maintain work-life balance\\n\\nTakes more time to settle down in the career.\\n\\nBooks \\n\\nFuture scope\\n\\nAlternative career options \\n\\nLAW FIRMS\\n\\nChartered accountants working for law firms are trained in financial areas unique to the legal profession. One might handle projects exclusive to legal accounts and work with multiple clients on a diverse range of issues. Forensic accounting is one of the upcoming fields in this domain. Chartered accountants working for law firms are trained in financial areas unique to the legal profession. One might handle projects exclusive to legal accounts and work with multiple clients on a diverse range of issues. Forensic accounting is one of the upcoming fields in this domain.\\n\\n\\n\\nCIVIL SERVICES\\n\\nOne of the best career options to be considered for a CA is that of civil services which range from All India Services to Group A services including Indian Audit and Accounts Services, Indian Defence Accounts Services, Indian P & T Accounts and Finance Service, Indian Civil Accounts Service and Indian Railway accounts Service.\\n\\n\\n\\nNON-PROFIT ORGANISATIONS\\n\\nTheir work in this profile may involve treasury management, procurement, financial management or producing reports and recommendations following internal audits or public-sector audits. The work may involve treasury management, procurement, financial management or producing reports and recommendations following internal audits or public-sector audits.\\n\\n\\n\\n\\n\\nSalary\\n\\nStarting salaries for accountants vary depending on the location, sector, size and type of firm.\\n\\nIn INDIA the salary of a financial accountant ranges from 15,000 to 30,000 which can go up to 45,000 depending on the firm and your area of expertise\\n\\nIn UK, graduates entering the career can expect to earn salaries of up to £30,000.\\n\\nDuring training, the average earning potential can be up to £60,000.\\n\\nThe average annual salary for a chartered accountant is £84,500, with an average yearly bonus of £17,300.\\n\\nIn USA, the median annual salary is $76,730. With total employment nationally being about 1,246,540.'"
            ]
          },
          "metadata": {
            "tags": []
          },
          "execution_count": 48
        }
      ]
    },
    {
      "cell_type": "code",
      "metadata": {
        "id": "sdFcqrEtAZ9O"
      },
      "source": [
        "text = text.split(\"\\n\")\n",
        "text = [i.strip() for i in text]"
      ],
      "execution_count": null,
      "outputs": []
    },
    {
      "cell_type": "code",
      "metadata": {
        "id": "VZ1w0KA-Aakc",
        "outputId": "1154577d-8b9b-4e09-8bac-d81a85690fcd",
        "colab": {
          "base_uri": "https://localhost:8080/",
          "height": 142
        }
      },
      "source": [
        "text"
      ],
      "execution_count": null,
      "outputs": [
        {
          "output_type": "execute_result",
          "data": {
            "application/vnd.google.colaboratory.intrinsic+json": {
              "type": "string"
            },
            "text/plain": [
              "'Chartered Accountant\\n\\nIntroduction\\n\\nThe duties of a CA include preparing financial reports and documents, maintaining records of investments, reviewing potential financial risks as well as providing professional opinions in regard to the fiscal decisions of the firm. They play a strategic role by providing professional advice, aiming to maximize profitability on behalf of their client or employer.\\n\\nCareer prospects\\n\\nIf you are looking to work as corporate executive who makes strategic financial plan for the company, or playing a part in regulation of financial reports for tax authorities, creditors, stockholders and regulatory agencies. \\n\\nYou can also start your own CA firm as well.\\n\\nYou can work in firm according to your specialities:\\n\\nTaxation\\n\\nAccounting \\n\\nAuditing\\n\\nLaw\\n\\nResponsibilities \\n\\nKNOWLEDGE\\n\\nBusiness\\n\\nAccounting and economics\\n\\nAdministrative services\\n\\nMath and Science\\n\\nArithmetic, algebra, geometry, calculus, or statistics\\n\\nArts and Humanities\\n\\nEnglish language\\n\\nSafety and Government\\n\\nLaw and government\\n\\n SKILLS\\n\\nBasic Skills\\n\\nListening to others, not interrupting, and asking good questions\\n\\nReading work related information\\n\\nProblem Solving\\n\\nNoticing a problem and figuring out the best way to solve it\\n\\nPeople and Technology Systems\\n\\nThinking about the pros and cons of different options and picking the best                    \\n\\nFiguring out how a system should work and how changes in the future will affect it.\\n\\nHow to get there?\\n\\nRequirements to become a Chartered Accountant:\\n\\n1. Through Foundation Course route:\\n\\n(i) Enrol for Foundation Course after appearing in Class 12thExamination conducted by an examining body\\n\\nconstituted by law in India or an examination recognized by the Central Government as equivalent thereto.\\n\\n(ii) Complete four months Study Period. Register till 30th June/ 31st December for being eligible to appear in\\n\\nNovember/ May Foundation Course Examination.\\n\\n(ii) Appear in Foundation Examination after passing in the Senior Secondary Examination (10+2 examination)\\n\\nconducted by an examining body constituted by law in India or an examination recognised by the Central\\n\\nGovernment as equivalent thereto and on complying with (ii) above.\\n\\n(iii) Join Intermediate Course after passing Foundation Examination.\\n\\n(iv) Undergo Four Weeks Integrated Course on Information Technology and Soft skills (ICITSS) consisting of\\n\\nCourses on Information Technology and Orientation Course at the earliest but these are to be completed\\n\\ncompulsorilybefore commencement of their articleship.\\n\\n(v) Appear in Intermediate Examination on completion of 8months of study course as on first day of the month in\\n\\nwhich theexamination is to be held.\\n\\n(vi) Join articled training after passing either of the Group or Both Groups ofIntermediate Course and after\\n\\nsuccessfully undergoing ICITSS.\\n\\n(vii) Clear the balance Group (if any) of Intermediate Examination.\\n\\n(viii) Register for Final Course.\\n\\n(ix) Successfully undergo Four Weeks Advanced Integrated Course on Information Technology and Soft skills\\n\\n(AICITSS) consisting of Courses on Advanced Information Technology and Management Communication Skills\\n\\nduring the last two years of practical trainingbut before appearing in the Final Examination.\\n\\n(x) Appear in the Final Examination on completion of the practical training or whileserving last 6 months of\\n\\narticled training on or before the last day of the month preceding the month in which the examination is to be\\n\\nheldafter successful completion of AICITSS.\\n\\n(xi) Complete articled training of 3 years.\\n\\n(xii) Pass Final Examination.\\n\\n(xiii) Enrol as a member of the ICAI and be designated as “Chartered Accountant”.\\n\\n\\n\\n2. Through Direct Entry route:\\n\\nI. Commerce Graduates/Post-Graduates (55%) or Other Graduates/Post-Graduates (60%):\\n\\n(i) Enrol with the Institute for Intermediate Course.\\n\\n(ii) Undergo Four Weeks Integrated Course on Information Technology and Soft skills (ICITSS) consisting of\\n\\nCourses on Information Technology and Orientation Course before commencement of their articleship.\\n\\n(iii) Register for Practical Training of three years.\\n\\n(iv) Appear in Intermediate Examination on completion of 9 months of Practical Training on first day of the month\\n\\nin which the examination is to be held.\\n\\n(v)Appear and pass in both groups of Intermediate Examination.\\n\\n(vi) Register for CA Final Course.\\n\\n(vii) Successfully undergo Four Weeks Advanced Integrated Course on Information Technology and Soft skills\\n\\n(AICITSS) consisting of Courses on Advanced Information Technology and Management Communication Skills\\n\\nduring the last two years of practical training but before appearing in the Final Examination.\\n\\n(viii) Appear in the Final Examination on completion of the practical training or while serving last 6 months of\\n\\narticled training on or before the last day of the month preceding the month in which the examination is to be held\\n\\nafter successful completion of AICITSS.\\n\\n(ix) Complete articled training of 3 years.\\n\\n(x) Pass Final Examination.\\n\\n(xi) Enrol as a member of the ICAI and be designated as “Chartered Accountant”.\\n\\nProvisional Registration: Candidates who are pursuing the Final year of Graduation Course shall be eligible for\\n\\nprovisional registration to the Intermediate Course. Such candidates would be required to submit satisfactory\\n\\nproof of having passed the graduation examination with the specified percentage of marks within such period not\\n\\nexceeding six months as from the date of appearance in the final year graduation examination. During the period\\n\\nof provisional registration, the candidate can undergo and complete ICITSS. It is clarified that in their case, the\\n\\npractical training will commence only on becoming a graduate with specified percentage of marks. Such\\n\\ncandidates shall be eligible for appearing in the Intermediate Examination on completion of nine months of\\n\\npractical training. If such candidates fail to produce the proof within the aforesaid period, his provisional\\n\\nregistration shall be cancelled and the registration fee or the tuition fee, as the case may be, paid by him shall not\\n\\nbe refunded and no credit shall be given for the theoretical education undergone.\\n\\nII. Candidates who have passed Intermediate level examination of Institute of Company Secretaries of India or\\n\\nInstitute of Cost Accountants of India\\n\\n(i) Enrol with the Institute for Intermediate Course.\\n\\n(ii) Undergo Four Weeks Integrated Course on Information Technology and Soft skills (ICITSS) consisting of\\n\\nCourses on Information Technology and Orientation Course at the earliest but these are to be completed\\n\\ncompulsorily before commencement of their articleship.\\n\\n(iii) Appear in Intermediate Examination on completion of 8 months of study course as on first day of the month in\\n\\nwhich the examination is to be held.\\n\\n(iv) Join articled training after passing either of the Group or Both Groups of Intermediate Course and after\\n\\nsuccessfully undergoing ICITSS.\\n\\n(v) Clear the balance Group (if any) of Intermediate Examination.\\n\\n(vi) Register for Final Course.\\n\\n(vii) Successfully undergo Four Weeks Advanced Integrated Course on Information Technology and Soft skills\\n\\n(AICITSS) consisting of Courses on Advanced Information Technology and Management Communication Skills\\n\\nduring the last two years of practical training but before appearing in the Final Examination.\\n\\n(viii) Appear in the Final Examination on completion of the practical training or while serving last 6 months of\\n\\narticled training on or before the last day of the month preceding the month in which the examination is to be held\\n\\nafter successful completion of AICITSS.\\n\\n(ix) Complete articled training of 3 years.\\n\\n(x) Pass Final Examination.\\n\\n(xi) Enrol as a member of the ICAI and be designated as “Chartered Accountant”\\n\\nSource : https://resource.cdn.icai.org/19323ca_atcourse260510.pdf\\n\\nPros and cons\\n\\nPros\\n\\nGood remuneration and social status\\n\\nGood for people who like to work without much social interaction\\n\\nHigh demand for CA professionals\\n\\nCons\\n\\nRequires much hard-work and patience\\n\\nLong hours of work and difficult to maintain work-life balance\\n\\nTakes more time to settle down in the career.\\n\\nBooks \\n\\nFuture scope\\n\\nAlternative career options \\n\\nLAW FIRMS\\n\\nChartered accountants working for law firms are trained in financial areas unique to the legal profession. One might handle projects exclusive to legal accounts and work with multiple clients on a diverse range of issues. Forensic accounting is one of the upcoming fields in this domain. Chartered accountants working for law firms are trained in financial areas unique to the legal profession. One might handle projects exclusive to legal accounts and work with multiple clients on a diverse range of issues. Forensic accounting is one of the upcoming fields in this domain.\\n\\n\\n\\nCIVIL SERVICES\\n\\nOne of the best career options to be considered for a CA is that of civil services which range from All India Services to Group A services including Indian Audit and Accounts Services, Indian Defence Accounts Services, Indian P & T Accounts and Finance Service, Indian Civil Accounts Service and Indian Railway accounts Service.\\n\\n\\n\\nNON-PROFIT ORGANISATIONS\\n\\nTheir work in this profile may involve treasury management, procurement, financial management or producing reports and recommendations following internal audits or public-sector audits. The work may involve treasury management, procurement, financial management or producing reports and recommendations following internal audits or public-sector audits.\\n\\n\\n\\n\\n\\nSalary\\n\\nStarting salaries for accountants vary depending on the location, sector, size and type of firm.\\n\\nIn INDIA the salary of a financial accountant ranges from 15,000 to 30,000 which can go up to 45,000 depending on the firm and your area of expertise\\n\\nIn UK, graduates entering the career can expect to earn salaries of up to £30,000.\\n\\nDuring training, the average earning potential can be up to £60,000.\\n\\nThe average annual salary for a chartered accountant is £84,500, with an average yearly bonus of £17,300.\\n\\nIn USA, the median annual salary is $76,730. With total employment nationally being about 1,246,540.'"
            ]
          },
          "metadata": {
            "tags": []
          },
          "execution_count": 37
        }
      ]
    },
    {
      "cell_type": "code",
      "metadata": {
        "id": "TtyAxJvaIVbi"
      },
      "source": [
        "text.remove(\"\")"
      ],
      "execution_count": null,
      "outputs": []
    },
    {
      "cell_type": "code",
      "metadata": {
        "id": "LpIpykD9IsRd",
        "outputId": "c4d50129-4ce0-4149-b74c-8e92ba0c96ce",
        "colab": {
          "base_uri": "https://localhost:8080/"
        }
      },
      "source": [
        "text"
      ],
      "execution_count": null,
      "outputs": [
        {
          "output_type": "execute_result",
          "data": {
            "text/plain": [
              "['Chartered Accountant',\n",
              " 'Introduction',\n",
              " '',\n",
              " 'The duties of a CA include preparing financial reports and documents, maintaining records of investments, reviewing potential financial risks as well as providing professional opinions in regard to the fiscal decisions of the firm. They play a strategic role by providing professional advice, aiming to maximize profitability on behalf of their client or employer.',\n",
              " '',\n",
              " 'Career prospects',\n",
              " '',\n",
              " 'If you are looking to work as corporate executive who makes strategic financial plan for the company, or playing a part in regulation of financial reports for tax authorities, creditors, stockholders and regulatory agencies.',\n",
              " '',\n",
              " 'You can also start your own CA firm as well.',\n",
              " '',\n",
              " 'You can work in firm according to your specialities:',\n",
              " '',\n",
              " 'Taxation',\n",
              " '',\n",
              " 'Accounting',\n",
              " '',\n",
              " 'Auditing',\n",
              " '',\n",
              " 'Law',\n",
              " '',\n",
              " 'Responsibilities',\n",
              " '',\n",
              " 'KNOWLEDGE',\n",
              " '',\n",
              " 'Business',\n",
              " '',\n",
              " 'Accounting and economics',\n",
              " '',\n",
              " 'Administrative services',\n",
              " '',\n",
              " 'Math and Science',\n",
              " '',\n",
              " 'Arithmetic, algebra, geometry, calculus, or statistics',\n",
              " '',\n",
              " 'Arts and Humanities',\n",
              " '',\n",
              " 'English language',\n",
              " '',\n",
              " 'Safety and Government',\n",
              " '',\n",
              " 'Law and government',\n",
              " '',\n",
              " 'SKILLS',\n",
              " '',\n",
              " 'Basic Skills',\n",
              " '',\n",
              " 'Listening to others, not interrupting, and asking good questions',\n",
              " '',\n",
              " 'Reading work related information',\n",
              " '',\n",
              " 'Problem Solving',\n",
              " '',\n",
              " 'Noticing a problem and figuring out the best way to solve it',\n",
              " '',\n",
              " 'People and Technology Systems',\n",
              " '',\n",
              " 'Thinking about the pros and cons of different options and picking the best',\n",
              " '',\n",
              " 'Figuring out how a system should work and how changes in the future will affect it.',\n",
              " '',\n",
              " 'How to get there?',\n",
              " '',\n",
              " 'Requirements to become a Chartered Accountant:',\n",
              " '',\n",
              " '1. Through Foundation Course route:',\n",
              " '',\n",
              " '(i) Enrol for Foundation Course after appearing in Class 12thExamination conducted by an examining body',\n",
              " '',\n",
              " 'constituted by law in India or an examination recognized by the Central Government as equivalent thereto.',\n",
              " '',\n",
              " '(ii) Complete four months Study Period. Register till 30th June/ 31st December for being eligible to appear in',\n",
              " '',\n",
              " 'November/ May Foundation Course Examination.',\n",
              " '',\n",
              " '(ii) Appear in Foundation Examination after passing in the Senior Secondary Examination (10+2 examination)',\n",
              " '',\n",
              " 'conducted by an examining body constituted by law in India or an examination recognised by the Central',\n",
              " '',\n",
              " 'Government as equivalent thereto and on complying with (ii) above.',\n",
              " '',\n",
              " '(iii) Join Intermediate Course after passing Foundation Examination.',\n",
              " '',\n",
              " '(iv) Undergo Four Weeks Integrated Course on Information Technology and Soft skills (ICITSS) consisting of',\n",
              " '',\n",
              " 'Courses on Information Technology and Orientation Course at the earliest but these are to be completed',\n",
              " '',\n",
              " 'compulsorilybefore commencement of their articleship.',\n",
              " '',\n",
              " '(v) Appear in Intermediate Examination on completion of 8months of study course as on first day of the month in',\n",
              " '',\n",
              " 'which theexamination is to be held.',\n",
              " '',\n",
              " '(vi) Join articled training after passing either of the Group or Both Groups ofIntermediate Course and after',\n",
              " '',\n",
              " 'successfully undergoing ICITSS.',\n",
              " '',\n",
              " '(vii) Clear the balance Group (if any) of Intermediate Examination.',\n",
              " '',\n",
              " '(viii) Register for Final Course.',\n",
              " '',\n",
              " '(ix) Successfully undergo Four Weeks Advanced Integrated Course on Information Technology and Soft skills',\n",
              " '',\n",
              " '(AICITSS) consisting of Courses on Advanced Information Technology and Management Communication Skills',\n",
              " '',\n",
              " 'during the last two years of practical trainingbut before appearing in the Final Examination.',\n",
              " '',\n",
              " '(x) Appear in the Final Examination on completion of the practical training or whileserving last 6 months of',\n",
              " '',\n",
              " 'articled training on or before the last day of the month preceding the month in which the examination is to be',\n",
              " '',\n",
              " 'heldafter successful completion of AICITSS.',\n",
              " '',\n",
              " '(xi) Complete articled training of 3 years.',\n",
              " '',\n",
              " '(xii) Pass Final Examination.',\n",
              " '',\n",
              " '(xiii) Enrol as a member of the ICAI and be designated as “Chartered Accountant”.',\n",
              " '',\n",
              " '',\n",
              " '',\n",
              " '2. Through Direct Entry route:',\n",
              " '',\n",
              " 'I. Commerce Graduates/Post-Graduates (55%) or Other Graduates/Post-Graduates (60%):',\n",
              " '',\n",
              " '(i) Enrol with the Institute for Intermediate Course.',\n",
              " '',\n",
              " '(ii) Undergo Four Weeks Integrated Course on Information Technology and Soft skills (ICITSS) consisting of',\n",
              " '',\n",
              " 'Courses on Information Technology and Orientation Course before commencement of their articleship.',\n",
              " '',\n",
              " '(iii) Register for Practical Training of three years.',\n",
              " '',\n",
              " '(iv) Appear in Intermediate Examination on completion of 9 months of Practical Training on first day of the month',\n",
              " '',\n",
              " 'in which the examination is to be held.',\n",
              " '',\n",
              " '(v)Appear and pass in both groups of Intermediate Examination.',\n",
              " '',\n",
              " '(vi) Register for CA Final Course.',\n",
              " '',\n",
              " '(vii) Successfully undergo Four Weeks Advanced Integrated Course on Information Technology and Soft skills',\n",
              " '',\n",
              " '(AICITSS) consisting of Courses on Advanced Information Technology and Management Communication Skills',\n",
              " '',\n",
              " 'during the last two years of practical training but before appearing in the Final Examination.',\n",
              " '',\n",
              " '(viii) Appear in the Final Examination on completion of the practical training or while serving last 6 months of',\n",
              " '',\n",
              " 'articled training on or before the last day of the month preceding the month in which the examination is to be held',\n",
              " '',\n",
              " 'after successful completion of AICITSS.',\n",
              " '',\n",
              " '(ix) Complete articled training of 3 years.',\n",
              " '',\n",
              " '(x) Pass Final Examination.',\n",
              " '',\n",
              " '(xi) Enrol as a member of the ICAI and be designated as “Chartered Accountant”.',\n",
              " '',\n",
              " 'Provisional Registration: Candidates who are pursuing the Final year of Graduation Course shall be eligible for',\n",
              " '',\n",
              " 'provisional registration to the Intermediate Course. Such candidates would be required to submit satisfactory',\n",
              " '',\n",
              " 'proof of having passed the graduation examination with the specified percentage of marks within such period not',\n",
              " '',\n",
              " 'exceeding six months as from the date of appearance in the final year graduation examination. During the period',\n",
              " '',\n",
              " 'of provisional registration, the candidate can undergo and complete ICITSS. It is clarified that in their case, the',\n",
              " '',\n",
              " 'practical training will commence only on becoming a graduate with specified percentage of marks. Such',\n",
              " '',\n",
              " 'candidates shall be eligible for appearing in the Intermediate Examination on completion of nine months of',\n",
              " '',\n",
              " 'practical training. If such candidates fail to produce the proof within the aforesaid period, his provisional',\n",
              " '',\n",
              " 'registration shall be cancelled and the registration fee or the tuition fee, as the case may be, paid by him shall not',\n",
              " '',\n",
              " 'be refunded and no credit shall be given for the theoretical education undergone.',\n",
              " '',\n",
              " 'II. Candidates who have passed Intermediate level examination of Institute of Company Secretaries of India or',\n",
              " '',\n",
              " 'Institute of Cost Accountants of India',\n",
              " '',\n",
              " '(i) Enrol with the Institute for Intermediate Course.',\n",
              " '',\n",
              " '(ii) Undergo Four Weeks Integrated Course on Information Technology and Soft skills (ICITSS) consisting of',\n",
              " '',\n",
              " 'Courses on Information Technology and Orientation Course at the earliest but these are to be completed',\n",
              " '',\n",
              " 'compulsorily before commencement of their articleship.',\n",
              " '',\n",
              " '(iii) Appear in Intermediate Examination on completion of 8 months of study course as on first day of the month in',\n",
              " '',\n",
              " 'which the examination is to be held.',\n",
              " '',\n",
              " '(iv) Join articled training after passing either of the Group or Both Groups of Intermediate Course and after',\n",
              " '',\n",
              " 'successfully undergoing ICITSS.',\n",
              " '',\n",
              " '(v) Clear the balance Group (if any) of Intermediate Examination.',\n",
              " '',\n",
              " '(vi) Register for Final Course.',\n",
              " '',\n",
              " '(vii) Successfully undergo Four Weeks Advanced Integrated Course on Information Technology and Soft skills',\n",
              " '',\n",
              " '(AICITSS) consisting of Courses on Advanced Information Technology and Management Communication Skills',\n",
              " '',\n",
              " 'during the last two years of practical training but before appearing in the Final Examination.',\n",
              " '',\n",
              " '(viii) Appear in the Final Examination on completion of the practical training or while serving last 6 months of',\n",
              " '',\n",
              " 'articled training on or before the last day of the month preceding the month in which the examination is to be held',\n",
              " '',\n",
              " 'after successful completion of AICITSS.',\n",
              " '',\n",
              " '(ix) Complete articled training of 3 years.',\n",
              " '',\n",
              " '(x) Pass Final Examination.',\n",
              " '',\n",
              " '(xi) Enrol as a member of the ICAI and be designated as “Chartered Accountant”',\n",
              " '',\n",
              " 'Source : https://resource.cdn.icai.org/19323ca_atcourse260510.pdf',\n",
              " '',\n",
              " 'Pros and cons',\n",
              " '',\n",
              " 'Pros',\n",
              " '',\n",
              " 'Good remuneration and social status',\n",
              " '',\n",
              " 'Good for people who like to work without much social interaction',\n",
              " '',\n",
              " 'High demand for CA professionals',\n",
              " '',\n",
              " 'Cons',\n",
              " '',\n",
              " 'Requires much hard-work and patience',\n",
              " '',\n",
              " 'Long hours of work and difficult to maintain work-life balance',\n",
              " '',\n",
              " 'Takes more time to settle down in the career.',\n",
              " '',\n",
              " 'Books',\n",
              " '',\n",
              " 'Future scope',\n",
              " '',\n",
              " 'Alternative career options',\n",
              " '',\n",
              " 'LAW FIRMS',\n",
              " '',\n",
              " 'Chartered accountants working for law firms are trained in financial areas unique to the legal profession. One might handle projects exclusive to legal accounts and work with multiple clients on a diverse range of issues. Forensic accounting is one of the upcoming fields in this domain. Chartered accountants working for law firms are trained in financial areas unique to the legal profession. One might handle projects exclusive to legal accounts and work with multiple clients on a diverse range of issues. Forensic accounting is one of the upcoming fields in this domain.',\n",
              " '',\n",
              " '',\n",
              " '',\n",
              " 'CIVIL SERVICES',\n",
              " '',\n",
              " 'One of the best career options to be considered for a CA is that of civil services which range from All India Services to Group A services including Indian Audit and Accounts Services, Indian Defence Accounts Services, Indian P & T Accounts and Finance Service, Indian Civil Accounts Service and Indian Railway accounts Service.',\n",
              " '',\n",
              " '',\n",
              " '',\n",
              " 'NON-PROFIT ORGANISATIONS',\n",
              " '',\n",
              " 'Their work in this profile may involve treasury management, procurement, financial management or producing reports and recommendations following internal audits or public-sector audits. The work may involve treasury management, procurement, financial management or producing reports and recommendations following internal audits or public-sector audits.',\n",
              " '',\n",
              " '',\n",
              " '',\n",
              " '',\n",
              " '',\n",
              " 'Salary',\n",
              " '',\n",
              " 'Starting salaries for accountants vary depending on the location, sector, size and type of firm.',\n",
              " '',\n",
              " 'In INDIA the salary of a financial accountant ranges from 15,000 to 30,000 which can go up to 45,000 depending on the firm and your area of expertise',\n",
              " '',\n",
              " 'In UK, graduates entering the career can expect to earn salaries of up to £30,000.',\n",
              " '',\n",
              " 'During training, the average earning potential can be up to £60,000.',\n",
              " '',\n",
              " 'The average annual salary for a chartered accountant is £84,500, with an average yearly bonus of £17,300.',\n",
              " '',\n",
              " 'In USA, the median annual salary is $76,730. With total employment nationally being about 1,246,540.']"
            ]
          },
          "metadata": {
            "tags": []
          },
          "execution_count": 35
        }
      ]
    },
    {
      "cell_type": "code",
      "metadata": {
        "id": "MhwDOPIuAqnS",
        "outputId": "f8b91b54-7bd5-46a0-ad2f-4e2d85ff9de3",
        "colab": {
          "base_uri": "https://localhost:8080/"
        }
      },
      "source": [
        "!pip install docx\n",
        "!pip install exceptions"
      ],
      "execution_count": null,
      "outputs": [
        {
          "output_type": "stream",
          "text": [
            "Requirement already satisfied: docx in /usr/local/lib/python3.6/dist-packages (0.2.4)\n",
            "Requirement already satisfied: lxml in /usr/local/lib/python3.6/dist-packages (from docx) (4.2.6)\n",
            "Requirement already satisfied: Pillow>=2.0 in /usr/local/lib/python3.6/dist-packages (from docx) (7.0.0)\n",
            "\u001b[31mERROR: Could not find a version that satisfies the requirement exceptions (from versions: none)\u001b[0m\n",
            "\u001b[31mERROR: No matching distribution found for exceptions\u001b[0m\n"
          ],
          "name": "stdout"
        }
      ]
    },
    {
      "cell_type": "code",
      "metadata": {
        "id": "wTO4hMQwCoM7"
      },
      "source": [
        "\n",
        "# print the list of the runs \n",
        "# in a specified paragraph \n",
        "print('\\nList of runs objects in 1st paragraph:->>>') \n",
        "print(doc.paragraphs[0].runs) \n",
        "\n",
        "# print the text in a paragraph \n",
        "print('\\nText in the 1st paragraph:->>>') \n",
        "print(doc.paragraphs[0].text) \n",
        "\n",
        "# for printing the complete document \n",
        "print('\\nThe whole content of the document:->>>\\n') \n",
        "for para in doc.paragraphs: \n",
        "\tprint(para.text) \n"
      ],
      "execution_count": null,
      "outputs": []
    },
    {
      "cell_type": "markdown",
      "metadata": {
        "id": "rGrpag1jjYoF"
      },
      "source": [
        "#Best librarey ever for docx file"
      ]
    },
    {
      "cell_type": "markdown",
      "metadata": {
        "id": "JseBCKRfjdR1"
      },
      "source": [
        "### It can extract text with heading style"
      ]
    },
    {
      "cell_type": "code",
      "metadata": {
        "id": "DBHFFq7-ZtWW"
      },
      "source": [
        "!pip install docx\n",
        "!pip install python-docx "
      ],
      "execution_count": null,
      "outputs": []
    },
    {
      "cell_type": "code",
      "metadata": {
        "id": "q9lQF2DpaTtz"
      },
      "source": [
        "from docx import Document"
      ],
      "execution_count": null,
      "outputs": []
    },
    {
      "cell_type": "code",
      "metadata": {
        "id": "4xye8RmcZtL7"
      },
      "source": [
        "document = Document(\"test.docx\")"
      ],
      "execution_count": 72,
      "outputs": []
    },
    {
      "cell_type": "code",
      "metadata": {
        "id": "0NPXFjHkZ01f",
        "outputId": "0fa83290-27f3-433d-f572-e82b38dcb22f",
        "colab": {
          "base_uri": "https://localhost:8080/"
        }
      },
      "source": [
        "styles = document.styles\n",
        "styles"
      ],
      "execution_count": 73,
      "outputs": [
        {
          "output_type": "execute_result",
          "data": {
            "text/plain": [
              "<docx.styles.styles.Styles at 0x7f38f4c62780>"
            ]
          },
          "metadata": {
            "tags": []
          },
          "execution_count": 73
        }
      ]
    },
    {
      "cell_type": "code",
      "metadata": {
        "id": "t134LWRpaido",
        "outputId": "ac2beb21-303f-48a2-e8e1-f7d4e8b771d7",
        "colab": {
          "base_uri": "https://localhost:8080/"
        }
      },
      "source": [
        "styles[\"Normal\"]"
      ],
      "execution_count": 74,
      "outputs": [
        {
          "output_type": "execute_result",
          "data": {
            "text/plain": [
              "_ParagraphStyle('Normal') id: 139882601524864"
            ]
          },
          "metadata": {
            "tags": []
          },
          "execution_count": 74
        }
      ]
    },
    {
      "cell_type": "code",
      "metadata": {
        "id": "fxmB8gKpbA6W",
        "outputId": "205040ce-00b7-476e-a1ba-d550300d960e",
        "colab": {
          "base_uri": "https://localhost:8080/"
        }
      },
      "source": [
        "from docx.enum.style import WD_STYLE_TYPE\n",
        "styles = document.styles\n",
        "paragraph_styles = [s for s in styles if s.type == WD_STYLE_TYPE.PARAGRAPH]\n",
        "for style in paragraph_styles:\n",
        "  print(style.name)"
      ],
      "execution_count": 75,
      "outputs": [
        {
          "output_type": "stream",
          "text": [
            "Normal\n",
            "Heading 1\n"
          ],
          "name": "stdout"
        }
      ]
    },
    {
      "cell_type": "code",
      "metadata": {
        "id": "cH9GhcWsgzMM",
        "outputId": "9534e505-6655-40d2-b200-48d06d6cb38d",
        "colab": {
          "base_uri": "https://localhost:8080/",
          "height": 35
        }
      },
      "source": [
        "document.paragraphs[0].style.name"
      ],
      "execution_count": 76,
      "outputs": [
        {
          "output_type": "execute_result",
          "data": {
            "application/vnd.google.colaboratory.intrinsic+json": {
              "type": "string"
            },
            "text/plain": [
              "'Heading 1'"
            ]
          },
          "metadata": {
            "tags": []
          },
          "execution_count": 76
        }
      ]
    },
    {
      "cell_type": "code",
      "metadata": {
        "id": "Cc0IbtSXbJYT",
        "outputId": "c87de19b-f68a-4d86-bdd1-bc14647308fa",
        "colab": {
          "base_uri": "https://localhost:8080/"
        }
      },
      "source": [
        "for i in document.paragraphs:\n",
        "  print(i.style.name + \" : \"+ i.text)"
      ],
      "execution_count": 77,
      "outputs": [
        {
          "output_type": "stream",
          "text": [
            "Heading 1 : Hello\n",
            "Normal : Hi\n"
          ],
          "name": "stdout"
        }
      ]
    },
    {
      "cell_type": "code",
      "metadata": {
        "id": "hD7QdM2vdKxV"
      },
      "source": [
        ""
      ],
      "execution_count": null,
      "outputs": []
    }
  ]
}